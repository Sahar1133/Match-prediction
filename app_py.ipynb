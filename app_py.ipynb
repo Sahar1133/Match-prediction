{
  "nbformat": 4,
  "nbformat_minor": 0,
  "metadata": {
    "colab": {
      "provenance": []
    },
    "kernelspec": {
      "name": "python3",
      "display_name": "Python 3"
    },
    "language_info": {
      "name": "python"
    }
  },
  "cells": [
    {
      "cell_type": "code",
      "source": [
        "import streamlit as st\n",
        "import pandas as pd\n",
        "from sklearn.model_selection import train_test_split\n",
        "from sklearn.preprocessing import LabelEncoder\n",
        "from sklearn.neighbors import KNeighborsClassifier\n",
        "\n",
        "# Function to load dataset (Cached for performance)\n",
        "@st.cache_data\n",
        "def load_data():\n",
        "    file_path = \"car_evaluation.csv\"  # Ensure this file is in your GitHub repo\n",
        "    return pd.read_csv(file_path)\n",
        "\n",
        "# Load dataset\n",
        "df = load_data()\n",
        "\n",
        "# Encode categorical features to numerical values\n",
        "encoders = {}  # Store encoders to decode predictions later\n",
        "for col in df.columns:\n",
        "    encoders[col] = LabelEncoder()\n",
        "    df[col] = encoders[col].fit_transform(df[col])\n",
        "\n",
        "# Splitting dataset\n",
        "X = df.drop(columns=[\"class\"])\n",
        "y = df[\"class\"]\n",
        "X_train, X_test, y_train, y_test = train_test_split(X, y, test_size=0.2, random_state=42)\n",
        "\n",
        "# Train KNN model\n",
        "knn = KNeighborsClassifier(n_neighbors=5)\n",
        "knn.fit(X_train, y_train)\n",
        "\n",
        "# Streamlit UI\n",
        "st.title(\"🚗 Car Quality Prediction using KNN\")\n",
        "\n",
        "st.sidebar.header(\"Input Car Features\")\n",
        "\n",
        "# Dropdown options from dataset\n",
        "buying_options = list(encoders[\"buying\"].classes_)\n",
        "maint_options = list(encoders[\"maint\"].classes_)\n",
        "doors_options = list(encoders[\"doors\"].classes_)\n",
        "persons_options = list(encoders[\"persons\"].classes_)\n",
        "lug_boot_options = list(encoders[\"lug_boot\"].classes_)\n",
        "safety_options = list(encoders[\"safety\"].classes_)\n",
        "\n",
        "# User Inputs\n",
        "buying = st.sidebar.selectbox(\"Buying Price\", buying_options)\n",
        "maint = st.sidebar.selectbox(\"Maintenance Cost\", maint_options)\n",
        "doors = st.sidebar.selectbox(\"Number of Doors\", doors_options)\n",
        "persons = st.sidebar.selectbox(\"Number of Persons\", persons_options)\n",
        "lug_boot = st.sidebar.selectbox(\"Luggage Boot Size\", lug_boot_options)\n",
        "safety = st.sidebar.selectbox(\"Safety\", safety_options)\n",
        "\n",
        "# Convert user input to numeric values\n",
        "user_input = pd.DataFrame({\n",
        "    \"buying\": [encoders[\"buying\"].transform([buying])[0]],\n",
        "    \"maint\": [encoders[\"maint\"].transform([maint])[0]],\n",
        "    \"doors\": [encoders[\"doors\"].transform([doors])[0]],\n",
        "    \"persons\": [encoders[\"persons\"].transform([persons])[0]],\n",
        "    \"lug_boot\": [encoders[\"lug_boot\"].transform([lug_boot])[0]],\n",
        "    \"safety\": [encoders[\"safety\"].transform([safety])[0]],\n",
        "})\n",
        "\n",
        "# Predict car quality\n",
        "prediction = knn.predict(user_input)\n",
        "predicted_class = encoders[\"class\"].inverse_transform(prediction)[0]  # Convert back to original label\n",
        "\n",
        "# Display result\n",
        "st.success(f\"### 🚘 Predicted Car Quality: *{predicted_class}*\")"
      ],
      "metadata": {
        "colab": {
          "base_uri": "https://localhost:8080/"
        },
        "id": "E5z33nDebw_D",
        "outputId": "182ff060-9b92-48c8-c45a-6c452f4a5686"
      },
      "execution_count": 5,
      "outputs": [
        {
          "output_type": "stream",
          "name": "stderr",
          "text": [
            "2025-03-16 19:39:49.926 No runtime found, using MemoryCacheStorageManager\n",
            "2025-03-16 19:39:49.939 No runtime found, using MemoryCacheStorageManager\n",
            "2025-03-16 19:39:49.946 Thread 'MainThread': missing ScriptRunContext! This warning can be ignored when running in bare mode.\n",
            "2025-03-16 19:39:49.947 Thread 'MainThread': missing ScriptRunContext! This warning can be ignored when running in bare mode.\n",
            "2025-03-16 19:39:49.951 Thread 'MainThread': missing ScriptRunContext! This warning can be ignored when running in bare mode.\n",
            "2025-03-16 19:39:49.971 Thread 'MainThread': missing ScriptRunContext! This warning can be ignored when running in bare mode.\n",
            "2025-03-16 19:39:49.974 Thread 'MainThread': missing ScriptRunContext! This warning can be ignored when running in bare mode.\n",
            "2025-03-16 19:39:49.995 Thread 'MainThread': missing ScriptRunContext! This warning can be ignored when running in bare mode.\n",
            "2025-03-16 19:39:49.997 Thread 'MainThread': missing ScriptRunContext! This warning can be ignored when running in bare mode.\n",
            "2025-03-16 19:39:49.998 Thread 'MainThread': missing ScriptRunContext! This warning can be ignored when running in bare mode.\n",
            "2025-03-16 19:39:49.999 Thread 'MainThread': missing ScriptRunContext! This warning can be ignored when running in bare mode.\n",
            "2025-03-16 19:39:50.002 Thread 'MainThread': missing ScriptRunContext! This warning can be ignored when running in bare mode.\n",
            "2025-03-16 19:39:50.003 Thread 'MainThread': missing ScriptRunContext! This warning can be ignored when running in bare mode.\n",
            "2025-03-16 19:39:50.005 Thread 'MainThread': missing ScriptRunContext! This warning can be ignored when running in bare mode.\n",
            "2025-03-16 19:39:50.007 Thread 'MainThread': missing ScriptRunContext! This warning can be ignored when running in bare mode.\n",
            "2025-03-16 19:39:50.009 Thread 'MainThread': missing ScriptRunContext! This warning can be ignored when running in bare mode.\n",
            "2025-03-16 19:39:50.010 Thread 'MainThread': missing ScriptRunContext! This warning can be ignored when running in bare mode.\n",
            "2025-03-16 19:39:50.011 Thread 'MainThread': missing ScriptRunContext! This warning can be ignored when running in bare mode.\n",
            "2025-03-16 19:39:50.012 Thread 'MainThread': missing ScriptRunContext! This warning can be ignored when running in bare mode.\n",
            "2025-03-16 19:39:50.013 Thread 'MainThread': missing ScriptRunContext! This warning can be ignored when running in bare mode.\n",
            "2025-03-16 19:39:50.014 Thread 'MainThread': missing ScriptRunContext! This warning can be ignored when running in bare mode.\n",
            "2025-03-16 19:39:50.015 Thread 'MainThread': missing ScriptRunContext! This warning can be ignored when running in bare mode.\n",
            "2025-03-16 19:39:50.017 Thread 'MainThread': missing ScriptRunContext! This warning can be ignored when running in bare mode.\n",
            "2025-03-16 19:39:50.019 Thread 'MainThread': missing ScriptRunContext! This warning can be ignored when running in bare mode.\n",
            "2025-03-16 19:39:50.019 Thread 'MainThread': missing ScriptRunContext! This warning can be ignored when running in bare mode.\n",
            "2025-03-16 19:39:50.021 Thread 'MainThread': missing ScriptRunContext! This warning can be ignored when running in bare mode.\n",
            "2025-03-16 19:39:50.022 Thread 'MainThread': missing ScriptRunContext! This warning can be ignored when running in bare mode.\n",
            "2025-03-16 19:39:50.023 Thread 'MainThread': missing ScriptRunContext! This warning can be ignored when running in bare mode.\n",
            "2025-03-16 19:39:50.023 Thread 'MainThread': missing ScriptRunContext! This warning can be ignored when running in bare mode.\n",
            "2025-03-16 19:39:50.024 Thread 'MainThread': missing ScriptRunContext! This warning can be ignored when running in bare mode.\n",
            "2025-03-16 19:39:50.025 Thread 'MainThread': missing ScriptRunContext! This warning can be ignored when running in bare mode.\n",
            "2025-03-16 19:39:50.026 Thread 'MainThread': missing ScriptRunContext! This warning can be ignored when running in bare mode.\n",
            "2025-03-16 19:39:50.026 Thread 'MainThread': missing ScriptRunContext! This warning can be ignored when running in bare mode.\n",
            "2025-03-16 19:39:50.027 Thread 'MainThread': missing ScriptRunContext! This warning can be ignored when running in bare mode.\n",
            "2025-03-16 19:39:50.029 Thread 'MainThread': missing ScriptRunContext! This warning can be ignored when running in bare mode.\n",
            "2025-03-16 19:39:50.030 Thread 'MainThread': missing ScriptRunContext! This warning can be ignored when running in bare mode.\n",
            "2025-03-16 19:39:50.031 Thread 'MainThread': missing ScriptRunContext! This warning can be ignored when running in bare mode.\n",
            "2025-03-16 19:39:50.032 Thread 'MainThread': missing ScriptRunContext! This warning can be ignored when running in bare mode.\n",
            "2025-03-16 19:39:50.032 Thread 'MainThread': missing ScriptRunContext! This warning can be ignored when running in bare mode.\n",
            "2025-03-16 19:39:50.033 Thread 'MainThread': missing ScriptRunContext! This warning can be ignored when running in bare mode.\n",
            "2025-03-16 19:39:50.034 Thread 'MainThread': missing ScriptRunContext! This warning can be ignored when running in bare mode.\n",
            "2025-03-16 19:39:50.035 Thread 'MainThread': missing ScriptRunContext! This warning can be ignored when running in bare mode.\n",
            "2025-03-16 19:39:50.035 Thread 'MainThread': missing ScriptRunContext! This warning can be ignored when running in bare mode.\n",
            "2025-03-16 19:39:50.040 Thread 'MainThread': missing ScriptRunContext! This warning can be ignored when running in bare mode.\n",
            "2025-03-16 19:39:50.044 Thread 'MainThread': missing ScriptRunContext! This warning can be ignored when running in bare mode.\n",
            "2025-03-16 19:39:50.045 Thread 'MainThread': missing ScriptRunContext! This warning can be ignored when running in bare mode.\n",
            "2025-03-16 19:39:50.046 Thread 'MainThread': missing ScriptRunContext! This warning can be ignored when running in bare mode.\n",
            "2025-03-16 19:39:50.074 Thread 'MainThread': missing ScriptRunContext! This warning can be ignored when running in bare mode.\n",
            "2025-03-16 19:39:50.078 Thread 'MainThread': missing ScriptRunContext! This warning can be ignored when running in bare mode.\n"
          ]
        },
        {
          "output_type": "execute_result",
          "data": {
            "text/plain": [
              "DeltaGenerator()"
            ]
          },
          "metadata": {},
          "execution_count": 5
        }
      ]
    }
  ]
}